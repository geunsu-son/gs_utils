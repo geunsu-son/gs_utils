{
 "cells": [
  {
   "cell_type": "code",
   "execution_count": 1,
   "id": "d3c4c962",
   "metadata": {},
   "outputs": [],
   "source": [
    "import time\n",
    "import sys\n",
    "import os\n",
    "sys.path.append(os.path.dirname(os.path.abspath('.')))\n",
    "from gs_utils.decorators import time_tracker"
   ]
  },
  {
   "cell_type": "code",
   "execution_count": 2,
   "id": "68b86a2c",
   "metadata": {},
   "outputs": [],
   "source": [
    "@time_tracker\n",
    "def my_funtion(a):\n",
    "    time.sleep(2)\n",
    "    print(f'Done: func {a}')"
   ]
  },
  {
   "cell_type": "code",
   "execution_count": 4,
   "id": "5cad2132",
   "metadata": {},
   "outputs": [
    {
     "name": "stdout",
     "output_type": "stream",
     "text": [
      "⏳ Function 'my_funtion' started at: 2025-07-03 13:02:27\n",
      "Done: func 테스트\n",
      "✅ Function 'my_funtion' finished at: 2025-07-03 13:02:29\n",
      "🕒 Total execution time: 2.0002 seconds\n",
      "--------------------------------------------------\n"
     ]
    }
   ],
   "source": [
    "my_funtion('테스트')"
   ]
  }
 ],
 "metadata": {
  "kernelspec": {
   "display_name": "base",
   "language": "python",
   "name": "python3"
  },
  "language_info": {
   "codemirror_mode": {
    "name": "ipython",
    "version": 3
   },
   "file_extension": ".py",
   "mimetype": "text/x-python",
   "name": "python",
   "nbconvert_exporter": "python",
   "pygments_lexer": "ipython3",
   "version": "3.12.4"
  }
 },
 "nbformat": 4,
 "nbformat_minor": 5
}
