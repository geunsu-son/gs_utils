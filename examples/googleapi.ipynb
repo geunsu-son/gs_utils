{
 "cells": [
  {
   "cell_type": "code",
   "execution_count": null,
   "id": "008ff2f1",
   "metadata": {},
   "outputs": [],
   "source": [
    "from gs_utils.google.sheet_manager import GoogleSheetManager\n",
    "import pandas as pd\n",
    "\n",
    "# 서비스 계정 키 파일이 있는 폴더 경로를 지정하세요.\n",
    "json_folder = \"./secret\"\n",
    "\n",
    "# GoogleSheetManager 인스턴스 생성\n",
    "gsm = GoogleSheetManager(json_folder=json_folder)"
   ]
  },
  {
   "cell_type": "code",
   "execution_count": null,
   "id": "72a6ccba",
   "metadata": {},
   "outputs": [],
   "source": [
    "# 구글 시트 URL 및 시트 이름을 지정하세요.\n",
    "spreadsheet_id = \"\"\n",
    "spreadsheet_url = f\"https://docs.google.com/spreadsheets/d/{spreadsheet_id}\"\n",
    "sheet_name = \"Sheet1\""
   ]
  },
  {
   "cell_type": "code",
   "execution_count": null,
   "id": "eac8e816",
   "metadata": {},
   "outputs": [],
   "source": [
    "# 1. 시트 이름과 ID 딕셔너리 얻기\n",
    "name_id_dict = gsm.get_sheet_name_id_dict(spreadsheet_url)\n",
    "print(name_id_dict)"
   ]
  },
  {
   "cell_type": "code",
   "execution_count": null,
   "id": "422969ab",
   "metadata": {},
   "outputs": [],
   "source": [
    "# 2. 시트 이름 리스트 얻기\n",
    "sheet_names = gsm.get_sheet_name_list(spreadsheet_url)\n",
    "print(sheet_names)"
   ]
  },
  {
   "cell_type": "code",
   "execution_count": null,
   "id": "a6c7123e",
   "metadata": {},
   "outputs": [],
   "source": [
    "# 3. 시트에서 데이터프레임 불러오기\n",
    "df = gsm.get_dataframe_from_sheet(spreadsheet_url, sheet_name)\n",
    "print(df)"
   ]
  },
  {
   "cell_type": "code",
   "execution_count": null,
   "id": "f55be9c6",
   "metadata": {},
   "outputs": [],
   "source": [
    "# 4. 데이터프레임을 시트에 쓰기 (기존 데이터 삭제 후 입력)\n",
    "new_df = pd.DataFrame({\n",
    "    \"이름\": [\"홍길동\", \"김철수\"],\n",
    "    \"나이\": [30, 25]\n",
    "})\n",
    "gsm.clear_and_set_worksheet(spreadsheet_url, \"새시트\", new_df)\n"
   ]
  }
 ],
 "metadata": {
  "kernelspec": {
   "display_name": "Python 3",
   "language": "python",
   "name": "python3"
  },
  "language_info": {
   "name": "python",
   "version": "3.12.1"
  }
 },
 "nbformat": 4,
 "nbformat_minor": 5
}
