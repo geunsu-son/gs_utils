{
 "cells": [
  {
   "cell_type": "code",
   "execution_count": 1,
   "metadata": {},
   "outputs": [],
   "source": [
    "import sys\n",
    "import os\n",
    "sys.path.append(os.path.dirname(os.path.abspath('.')))\n",
    "from gs_utils.decorators import error_logger"
   ]
  },
  {
   "cell_type": "markdown",
   "metadata": {},
   "source": [
    "### 1. 기본 사용 (raise_error=True, 에러 발생 시 프로그램 중단)"
   ]
  },
  {
   "cell_type": "code",
   "execution_count": 6,
   "metadata": {},
   "outputs": [],
   "source": [
    "@error_logger()\n",
    "def critical_function(x):\n",
    "    \"\"\"중요한 함수 - 오류 발생 시 프로그램을 중단해야 함\"\"\"\n",
    "    if x == 'error':\n",
    "        print(f\"❌ 실패: {x}\")\n",
    "        raise ValueError(\"치명적인 오류!\")\n",
    "    \n",
    "    seccess_message = f\"✅ 성공: {x}\"\n",
    "    print(seccess_message)\n",
    "    return seccess_message"
   ]
  },
  {
   "cell_type": "code",
   "execution_count": 7,
   "metadata": {},
   "outputs": [
    {
     "name": "stdout",
     "output_type": "stream",
     "text": [
      "=== 중요 함수 테스트 (오류 시 중단) ===\n",
      "✅ 성공: Funtion1\n",
      "❌ 실패: error\n",
      "================================\n",
      "⚠️ Function 'critical_function'\n",
      "ℹ️ Error Message: 치명적인 오류!\n",
      "================================\n",
      "⚠️ 함수 실행 중 오류 발생함.\n"
     ]
    }
   ],
   "source": [
    "print(\"=== 중요 함수 테스트 (오류 시 중단) ===\")\n",
    "try:\n",
    "    critical_function('Funtion1')\n",
    "    critical_function('error')  # 여기서 중단\n",
    "    critical_function('Funtion2')  # 실행되지 않음\n",
    "except Exception as e:\n",
    "    print(f\"⚠️ 함수 실행 중 오류 발생함.\")"
   ]
  },
  {
   "cell_type": "markdown",
   "metadata": {},
   "source": [
    "### 2. 에러 무시하고 계속 진행 (raise_error=False)"
   ]
  },
  {
   "cell_type": "code",
   "execution_count": 9,
   "metadata": {},
   "outputs": [],
   "source": [
    "@error_logger(raise_error=False)\n",
    "def non_critical_function(x):\n",
    "    \"\"\"덜 중요한 함수 - 오류 발생해도 계속 진행\"\"\"\n",
    "    if x == 'error':\n",
    "        print(f\"❌ 실패: {x}\")\n",
    "        raise ValueError(\"덜 중요한 오류!\")\n",
    "    \n",
    "    seccess_message = f\"✅ 성공: {x}\"\n",
    "    print(seccess_message)\n",
    "    return seccess_message"
   ]
  },
  {
   "cell_type": "code",
   "execution_count": 10,
   "metadata": {},
   "outputs": [
    {
     "name": "stdout",
     "output_type": "stream",
     "text": [
      "=== 덜 중요한 함수 테스트 (오류 시 계속 진행) ===\n",
      "✅ 성공: Funtion1\n",
      "❌ 실패: error\n",
      "================================\n",
      "⚠️ Function 'non_critical_function'\n",
      "ℹ️ Error Message: 덜 중요한 오류!\n",
      "================================\n",
      "✅ 성공: Funtion2\n"
     ]
    }
   ],
   "source": [
    "print(\"=== 덜 중요한 함수 테스트 (오류 시 계속 진행) ===\")\n",
    "try:\n",
    "    result1 = non_critical_function('Funtion1')    \n",
    "    non_critical_function('error')  # 오류 발생하지만 계속 진행\n",
    "    result2 = non_critical_function('Funtion2')\n",
    "except Exception as e:\n",
    "    print(f\"예상치 못한 오류: {e}\")"
   ]
  },
  {
   "cell_type": "markdown",
   "metadata": {},
   "source": [
    "### 3. 함수 내에서 예외 처리된 오류의 경우 로그를 남기지 않음."
   ]
  },
  {
   "cell_type": "code",
   "execution_count": 13,
   "metadata": {},
   "outputs": [],
   "source": [
    "@error_logger(raise_error=True)\n",
    "def non_critical_function_try_except(x):\n",
    "    \"\"\"덜 중요한 함수 - 오류 발생해도 계속 진행\"\"\"\n",
    "    try:\n",
    "        if x == 'error':\n",
    "            print(f\"❌ 실패: {x}\")\n",
    "            raise ValueError(\"덜 중요한 오류!\")\n",
    "        \n",
    "        seccess_message = f\"✅ 성공: {x}\"\n",
    "        print(seccess_message)\n",
    "        return seccess_message\n",
    "    except Exception as e:\n",
    "        print(f\"예상치 못한 오류: {e}\")"
   ]
  },
  {
   "cell_type": "code",
   "execution_count": 14,
   "metadata": {},
   "outputs": [
    {
     "name": "stdout",
     "output_type": "stream",
     "text": [
      "=== try-except 포함한 중요 함수 테스트 (오류 시 중단) ===\n",
      "✅ 성공: Funtion1\n",
      "❌ 실패: error\n",
      "예상치 못한 오류: 덜 중요한 오류!\n",
      "✅ 성공: Funtion2\n"
     ]
    }
   ],
   "source": [
    "print(\"=== try-except 포함한 중요 함수 테스트 (오류 시 중단) ===\")\n",
    "try:\n",
    "    non_critical_function_try_except('Funtion1')\n",
    "    non_critical_function_try_except('error')  # 여기서 중단\n",
    "    non_critical_function_try_except('Funtion2')  # 실행되지 않음\n",
    "except Exception as e:\n",
    "    print(f\"⚠️ 함수 실행 중 오류 발생함.\")"
   ]
  }
 ],
 "metadata": {
  "kernelspec": {
   "display_name": "base",
   "language": "python",
   "name": "python3"
  },
  "language_info": {
   "codemirror_mode": {
    "name": "ipython",
    "version": 3
   },
   "file_extension": ".py",
   "mimetype": "text/x-python",
   "name": "python",
   "nbconvert_exporter": "python",
   "pygments_lexer": "ipython3",
   "version": "3.12.4"
  }
 },
 "nbformat": 4,
 "nbformat_minor": 2
}
